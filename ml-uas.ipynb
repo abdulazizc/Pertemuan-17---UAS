{
 "cells": [
  {
   "attachments": {},
   "cell_type": "markdown",
   "id": "2c24141b",
   "metadata": {},
   "source": [
    "### Kelompok\n",
    "Muhammad Abdul Aziz     2241727023\n",
    "Teo Wisnu Widiantoro    2241727038"
   ]
  },
  {
   "attachments": {},
   "cell_type": "markdown",
   "id": "dd5e1166",
   "metadata": {
    "papermill": {
     "duration": 0.009409,
     "end_time": "2022-11-26T09:47:03.212999",
     "exception": false,
     "start_time": "2022-11-26T09:47:03.203590",
     "status": "completed"
    },
    "tags": []
   },
   "source": [
    "### Prediksi Angka GDP Sebuah Negara Pada Masa Pandemi\n",
    "\n",
    "Pandemi Covid-19 ini telah berdampak banyak pada seluruh bidang dalam kehidupan, salah satu bidang yang terpengaruh adalah ekonomi sebuah negara. Angka yang dapat merepresentasikan kondisi ekonomi pada sebuah negara adalah GDP (Gross Domestic Product).\n",
    "Gross Domestic Product (GDP) / Produk Domestik Bruto (PDB) adalah perhitungan yang digunakan oleh suatu negara sebagai ukuran utama bagi aktivitas perekonomian nasionalnya, tetapi pada dasarnya GDP/PDB mengukur seluruh volume produksi dari suatu wilayah negara secara geografis.\n",
    "\n",
    "Maka dari itu kami ingin membuat model yang dapat memprediksi berapa angka GDP sebuah negara dengan beberapa input seperti HDI, Population, Continent, dan Total Covid Case"
   ]
  },
  {
   "attachments": {},
   "cell_type": "markdown",
   "id": "cb71e05e",
   "metadata": {},
   "source": [
    "### Pre Processing"
   ]
  },
  {
   "cell_type": "code",
   "execution_count": 1,
   "id": "d5712951",
   "metadata": {
    "execution": {
     "iopub.execute_input": "2022-11-26T09:47:03.232161Z",
     "iopub.status.busy": "2022-11-26T09:47:03.230893Z",
     "iopub.status.idle": "2022-11-26T09:47:20.727426Z",
     "shell.execute_reply": "2022-11-26T09:47:20.725316Z"
    },
    "papermill": {
     "duration": 17.509545,
     "end_time": "2022-11-26T09:47:20.730678",
     "exception": false,
     "start_time": "2022-11-26T09:47:03.221133",
     "status": "completed"
    },
    "tags": []
   },
   "outputs": [
    {
     "name": "stdout",
     "output_type": "stream",
     "text": [
      "Note: you may need to restart the kernel to use updated packages.\n"
     ]
    },
    {
     "name": "stderr",
     "output_type": "stream",
     "text": [
      "\n",
      "[notice] A new release of pip available: 22.2.2 -> 22.3.1\n",
      "[notice] To update, run: python.exe -m pip install --upgrade pip\n"
     ]
    }
   ],
   "source": [
    "pip install pycountry_convert --quiet"
   ]
  },
  {
   "cell_type": "code",
   "execution_count": 5,
   "id": "e5425ffa",
   "metadata": {
    "execution": {
     "iopub.execute_input": "2022-11-26T09:47:20.749267Z",
     "iopub.status.busy": "2022-11-26T09:47:20.748355Z",
     "iopub.status.idle": "2022-11-26T09:47:23.091522Z",
     "shell.execute_reply": "2022-11-26T09:47:23.090441Z"
    },
    "papermill": {
     "duration": 2.355754,
     "end_time": "2022-11-26T09:47:23.094612",
     "exception": false,
     "start_time": "2022-11-26T09:47:20.738858",
     "status": "completed"
    },
    "tags": []
   },
   "outputs": [],
   "source": [
    "import numpy as np\n",
    "import pandas as pd\n",
    "import seaborn as sns\n",
    "import matplotlib.pyplot as plt\n",
    "import pycountry_convert as pc\n",
    "from datetime import datetime as dt\n",
    "import os\n"
   ]
  },
  {
   "cell_type": "code",
   "execution_count": 7,
   "id": "36466ca8",
   "metadata": {
    "_cell_guid": "b1076dfc-b9ad-4769-8c92-a6c4dae69d19",
    "_uuid": "8f2839f25d086af736a60e9eeb907d3b93b6e0e5",
    "execution": {
     "iopub.execute_input": "2022-11-26T09:47:23.128595Z",
     "iopub.status.busy": "2022-11-26T09:47:23.127902Z",
     "iopub.status.idle": "2022-11-26T09:47:23.304304Z",
     "shell.execute_reply": "2022-11-26T09:47:23.302640Z"
    },
    "papermill": {
     "duration": 0.189612,
     "end_time": "2022-11-26T09:47:23.308253",
     "exception": false,
     "start_time": "2022-11-26T09:47:23.118641",
     "status": "completed"
    },
    "tags": []
   },
   "outputs": [
    {
     "data": {
      "text/html": [
       "<div>\n",
       "<style scoped>\n",
       "    .dataframe tbody tr th:only-of-type {\n",
       "        vertical-align: middle;\n",
       "    }\n",
       "\n",
       "    .dataframe tbody tr th {\n",
       "        vertical-align: top;\n",
       "    }\n",
       "\n",
       "    .dataframe thead th {\n",
       "        text-align: right;\n",
       "    }\n",
       "</style>\n",
       "<table border=\"1\" class=\"dataframe\">\n",
       "  <thead>\n",
       "    <tr style=\"text-align: right;\">\n",
       "      <th></th>\n",
       "      <th>CODE</th>\n",
       "      <th>COUNTRY</th>\n",
       "      <th>DATE</th>\n",
       "      <th>HDI</th>\n",
       "      <th>TC</th>\n",
       "      <th>TD</th>\n",
       "      <th>STI</th>\n",
       "      <th>POP</th>\n",
       "      <th>GDPCAP</th>\n",
       "    </tr>\n",
       "  </thead>\n",
       "  <tbody>\n",
       "    <tr>\n",
       "      <th>0</th>\n",
       "      <td>AFG</td>\n",
       "      <td>Afghanistan</td>\n",
       "      <td>2019-12-31</td>\n",
       "      <td>0.498</td>\n",
       "      <td>0.0</td>\n",
       "      <td>0.0</td>\n",
       "      <td>0.0</td>\n",
       "      <td>17.477233</td>\n",
       "      <td>7.497754</td>\n",
       "    </tr>\n",
       "    <tr>\n",
       "      <th>1</th>\n",
       "      <td>AFG</td>\n",
       "      <td>Afghanistan</td>\n",
       "      <td>2020-01-01</td>\n",
       "      <td>0.498</td>\n",
       "      <td>0.0</td>\n",
       "      <td>0.0</td>\n",
       "      <td>0.0</td>\n",
       "      <td>17.477233</td>\n",
       "      <td>7.497754</td>\n",
       "    </tr>\n",
       "    <tr>\n",
       "      <th>2</th>\n",
       "      <td>AFG</td>\n",
       "      <td>Afghanistan</td>\n",
       "      <td>2020-01-02</td>\n",
       "      <td>0.498</td>\n",
       "      <td>0.0</td>\n",
       "      <td>0.0</td>\n",
       "      <td>0.0</td>\n",
       "      <td>17.477233</td>\n",
       "      <td>7.497754</td>\n",
       "    </tr>\n",
       "    <tr>\n",
       "      <th>3</th>\n",
       "      <td>AFG</td>\n",
       "      <td>Afghanistan</td>\n",
       "      <td>2020-01-03</td>\n",
       "      <td>0.498</td>\n",
       "      <td>0.0</td>\n",
       "      <td>0.0</td>\n",
       "      <td>0.0</td>\n",
       "      <td>17.477233</td>\n",
       "      <td>7.497754</td>\n",
       "    </tr>\n",
       "    <tr>\n",
       "      <th>4</th>\n",
       "      <td>AFG</td>\n",
       "      <td>Afghanistan</td>\n",
       "      <td>2020-01-04</td>\n",
       "      <td>0.498</td>\n",
       "      <td>0.0</td>\n",
       "      <td>0.0</td>\n",
       "      <td>0.0</td>\n",
       "      <td>17.477233</td>\n",
       "      <td>7.497754</td>\n",
       "    </tr>\n",
       "  </tbody>\n",
       "</table>\n",
       "</div>"
      ],
      "text/plain": [
       "  CODE      COUNTRY        DATE    HDI   TC   TD  STI        POP    GDPCAP\n",
       "0  AFG  Afghanistan  2019-12-31  0.498  0.0  0.0  0.0  17.477233  7.497754\n",
       "1  AFG  Afghanistan  2020-01-01  0.498  0.0  0.0  0.0  17.477233  7.497754\n",
       "2  AFG  Afghanistan  2020-01-02  0.498  0.0  0.0  0.0  17.477233  7.497754\n",
       "3  AFG  Afghanistan  2020-01-03  0.498  0.0  0.0  0.0  17.477233  7.497754\n",
       "4  AFG  Afghanistan  2020-01-04  0.498  0.0  0.0  0.0  17.477233  7.497754"
      ]
     },
     "execution_count": 7,
     "metadata": {},
     "output_type": "execute_result"
    }
   ],
   "source": [
    "df = pd.read_csv('transformed_data.csv')\n",
    "df = df.dropna()\n",
    "df.head()"
   ]
  },
  {
   "cell_type": "code",
   "execution_count": 8,
   "id": "6874c996",
   "metadata": {
    "execution": {
     "iopub.execute_input": "2022-11-26T09:47:23.328283Z",
     "iopub.status.busy": "2022-11-26T09:47:23.327829Z",
     "iopub.status.idle": "2022-11-26T09:47:23.380486Z",
     "shell.execute_reply": "2022-11-26T09:47:23.379009Z"
    },
    "papermill": {
     "duration": 0.064894,
     "end_time": "2022-11-26T09:47:23.383225",
     "exception": false,
     "start_time": "2022-11-26T09:47:23.318331",
     "status": "completed"
    },
    "tags": []
   },
   "outputs": [
    {
     "data": {
      "text/html": [
       "<div>\n",
       "<style scoped>\n",
       "    .dataframe tbody tr th:only-of-type {\n",
       "        vertical-align: middle;\n",
       "    }\n",
       "\n",
       "    .dataframe tbody tr th {\n",
       "        vertical-align: top;\n",
       "    }\n",
       "\n",
       "    .dataframe thead th {\n",
       "        text-align: right;\n",
       "    }\n",
       "</style>\n",
       "<table border=\"1\" class=\"dataframe\">\n",
       "  <thead>\n",
       "    <tr style=\"text-align: right;\">\n",
       "      <th></th>\n",
       "      <th>HDI</th>\n",
       "      <th>TC</th>\n",
       "      <th>TD</th>\n",
       "      <th>STI</th>\n",
       "      <th>POP</th>\n",
       "      <th>GDPCAP</th>\n",
       "    </tr>\n",
       "  </thead>\n",
       "  <tbody>\n",
       "    <tr>\n",
       "      <th>count</th>\n",
       "      <td>44216.000000</td>\n",
       "      <td>44216.000000</td>\n",
       "      <td>44216.000000</td>\n",
       "      <td>44216.000000</td>\n",
       "      <td>44216.000000</td>\n",
       "      <td>44216.000000</td>\n",
       "    </tr>\n",
       "    <tr>\n",
       "      <th>mean</th>\n",
       "      <td>0.720139</td>\n",
       "      <td>7.102211</td>\n",
       "      <td>3.729883</td>\n",
       "      <td>3.372483</td>\n",
       "      <td>16.018503</td>\n",
       "      <td>9.154138</td>\n",
       "    </tr>\n",
       "    <tr>\n",
       "      <th>std</th>\n",
       "      <td>0.160902</td>\n",
       "      <td>3.676823</td>\n",
       "      <td>3.111586</td>\n",
       "      <td>1.534602</td>\n",
       "      <td>1.932219</td>\n",
       "      <td>1.753255</td>\n",
       "    </tr>\n",
       "    <tr>\n",
       "      <th>min</th>\n",
       "      <td>0.000000</td>\n",
       "      <td>0.000000</td>\n",
       "      <td>0.000000</td>\n",
       "      <td>0.000000</td>\n",
       "      <td>10.548940</td>\n",
       "      <td>0.000000</td>\n",
       "    </tr>\n",
       "    <tr>\n",
       "      <th>25%</th>\n",
       "      <td>0.601000</td>\n",
       "      <td>4.672829</td>\n",
       "      <td>0.000000</td>\n",
       "      <td>3.324316</td>\n",
       "      <td>14.901792</td>\n",
       "      <td>8.421078</td>\n",
       "    </tr>\n",
       "    <tr>\n",
       "      <th>50%</th>\n",
       "      <td>0.752000</td>\n",
       "      <td>7.577634</td>\n",
       "      <td>3.663562</td>\n",
       "      <td>4.050219</td>\n",
       "      <td>16.127974</td>\n",
       "      <td>9.492126</td>\n",
       "    </tr>\n",
       "    <tr>\n",
       "      <th>75%</th>\n",
       "      <td>0.847000</td>\n",
       "      <td>9.827902</td>\n",
       "      <td>5.966147</td>\n",
       "      <td>4.353884</td>\n",
       "      <td>17.326136</td>\n",
       "      <td>10.266848</td>\n",
       "    </tr>\n",
       "    <tr>\n",
       "      <th>max</th>\n",
       "      <td>0.953000</td>\n",
       "      <td>15.914092</td>\n",
       "      <td>12.299900</td>\n",
       "      <td>4.605170</td>\n",
       "      <td>21.087439</td>\n",
       "      <td>11.669379</td>\n",
       "    </tr>\n",
       "  </tbody>\n",
       "</table>\n",
       "</div>"
      ],
      "text/plain": [
       "                HDI            TC            TD           STI           POP  \\\n",
       "count  44216.000000  44216.000000  44216.000000  44216.000000  44216.000000   \n",
       "mean       0.720139      7.102211      3.729883      3.372483     16.018503   \n",
       "std        0.160902      3.676823      3.111586      1.534602      1.932219   \n",
       "min        0.000000      0.000000      0.000000      0.000000     10.548940   \n",
       "25%        0.601000      4.672829      0.000000      3.324316     14.901792   \n",
       "50%        0.752000      7.577634      3.663562      4.050219     16.127974   \n",
       "75%        0.847000      9.827902      5.966147      4.353884     17.326136   \n",
       "max        0.953000     15.914092     12.299900      4.605170     21.087439   \n",
       "\n",
       "             GDPCAP  \n",
       "count  44216.000000  \n",
       "mean       9.154138  \n",
       "std        1.753255  \n",
       "min        0.000000  \n",
       "25%        8.421078  \n",
       "50%        9.492126  \n",
       "75%       10.266848  \n",
       "max       11.669379  "
      ]
     },
     "execution_count": 8,
     "metadata": {},
     "output_type": "execute_result"
    }
   ],
   "source": [
    "df.describe()"
   ]
  },
  {
   "cell_type": "code",
   "execution_count": 9,
   "id": "6c0e6c13",
   "metadata": {
    "execution": {
     "iopub.execute_input": "2022-11-26T09:47:23.418824Z",
     "iopub.status.busy": "2022-11-26T09:47:23.418396Z",
     "iopub.status.idle": "2022-11-26T09:47:23.458445Z",
     "shell.execute_reply": "2022-11-26T09:47:23.457596Z"
    },
    "papermill": {
     "duration": 0.052337,
     "end_time": "2022-11-26T09:47:23.460760",
     "exception": false,
     "start_time": "2022-11-26T09:47:23.408423",
     "status": "completed"
    },
    "tags": []
   },
   "outputs": [
    {
     "data": {
      "text/html": [
       "<div>\n",
       "<style scoped>\n",
       "    .dataframe tbody tr th:only-of-type {\n",
       "        vertical-align: middle;\n",
       "    }\n",
       "\n",
       "    .dataframe tbody tr th {\n",
       "        vertical-align: top;\n",
       "    }\n",
       "\n",
       "    .dataframe thead th {\n",
       "        text-align: right;\n",
       "    }\n",
       "</style>\n",
       "<table border=\"1\" class=\"dataframe\">\n",
       "  <thead>\n",
       "    <tr style=\"text-align: right;\">\n",
       "      <th></th>\n",
       "      <th>HDI</th>\n",
       "      <th>TC</th>\n",
       "      <th>TD</th>\n",
       "      <th>STI</th>\n",
       "      <th>POP</th>\n",
       "      <th>GDPCAP</th>\n",
       "    </tr>\n",
       "  </thead>\n",
       "  <tbody>\n",
       "    <tr>\n",
       "      <th>count</th>\n",
       "      <td>29007.000000</td>\n",
       "      <td>29007.000000</td>\n",
       "      <td>29007.000000</td>\n",
       "      <td>29007.000000</td>\n",
       "      <td>29007.000000</td>\n",
       "      <td>29007.000000</td>\n",
       "    </tr>\n",
       "    <tr>\n",
       "      <th>mean</th>\n",
       "      <td>0.726251</td>\n",
       "      <td>8.929209</td>\n",
       "      <td>5.171392</td>\n",
       "      <td>4.096493</td>\n",
       "      <td>16.452885</td>\n",
       "      <td>9.354209</td>\n",
       "    </tr>\n",
       "    <tr>\n",
       "      <th>std</th>\n",
       "      <td>0.155843</td>\n",
       "      <td>2.355121</td>\n",
       "      <td>2.541086</td>\n",
       "      <td>0.414699</td>\n",
       "      <td>1.603183</td>\n",
       "      <td>1.199066</td>\n",
       "    </tr>\n",
       "    <tr>\n",
       "      <th>min</th>\n",
       "      <td>0.354000</td>\n",
       "      <td>0.693147</td>\n",
       "      <td>0.693147</td>\n",
       "      <td>1.022451</td>\n",
       "      <td>12.568529</td>\n",
       "      <td>6.494117</td>\n",
       "    </tr>\n",
       "    <tr>\n",
       "      <th>25%</th>\n",
       "      <td>0.608000</td>\n",
       "      <td>7.246368</td>\n",
       "      <td>3.258097</td>\n",
       "      <td>3.893248</td>\n",
       "      <td>15.445029</td>\n",
       "      <td>8.524111</td>\n",
       "    </tr>\n",
       "    <tr>\n",
       "      <th>50%</th>\n",
       "      <td>0.754000</td>\n",
       "      <td>8.891099</td>\n",
       "      <td>4.875197</td>\n",
       "      <td>4.227126</td>\n",
       "      <td>16.272792</td>\n",
       "      <td>9.550298</td>\n",
       "    </tr>\n",
       "    <tr>\n",
       "      <th>75%</th>\n",
       "      <td>0.853000</td>\n",
       "      <td>10.689692</td>\n",
       "      <td>6.850656</td>\n",
       "      <td>4.389002</td>\n",
       "      <td>17.509937</td>\n",
       "      <td>10.314111</td>\n",
       "    </tr>\n",
       "    <tr>\n",
       "      <th>max</th>\n",
       "      <td>0.953000</td>\n",
       "      <td>15.864821</td>\n",
       "      <td>12.277328</td>\n",
       "      <td>4.605170</td>\n",
       "      <td>21.087439</td>\n",
       "      <td>11.669379</td>\n",
       "    </tr>\n",
       "  </tbody>\n",
       "</table>\n",
       "</div>"
      ],
      "text/plain": [
       "                HDI            TC            TD           STI           POP  \\\n",
       "count  29007.000000  29007.000000  29007.000000  29007.000000  29007.000000   \n",
       "mean       0.726251      8.929209      5.171392      4.096493     16.452885   \n",
       "std        0.155843      2.355121      2.541086      0.414699      1.603183   \n",
       "min        0.354000      0.693147      0.693147      1.022451     12.568529   \n",
       "25%        0.608000      7.246368      3.258097      3.893248     15.445029   \n",
       "50%        0.754000      8.891099      4.875197      4.227126     16.272792   \n",
       "75%        0.853000     10.689692      6.850656      4.389002     17.509937   \n",
       "max        0.953000     15.864821     12.277328      4.605170     21.087439   \n",
       "\n",
       "             GDPCAP  \n",
       "count  29007.000000  \n",
       "mean       9.354209  \n",
       "std        1.199066  \n",
       "min        6.494117  \n",
       "25%        8.524111  \n",
       "50%        9.550298  \n",
       "75%       10.314111  \n",
       "max       11.669379  "
      ]
     },
     "execution_count": 9,
     "metadata": {},
     "output_type": "execute_result"
    }
   ],
   "source": [
    "df = df[(df[['HDI', 'TC', 'TD', 'STI', 'GDPCAP']] != 0).all(axis=1)]\n",
    "df.describe()"
   ]
  },
  {
   "cell_type": "code",
   "execution_count": 10,
   "id": "7f33fe27",
   "metadata": {
    "execution": {
     "iopub.execute_input": "2022-11-26T09:47:23.498506Z",
     "iopub.status.busy": "2022-11-26T09:47:23.497773Z",
     "iopub.status.idle": "2022-11-26T09:47:23.511434Z",
     "shell.execute_reply": "2022-11-26T09:47:23.510261Z"
    },
    "papermill": {
     "duration": 0.026707,
     "end_time": "2022-11-26T09:47:23.514110",
     "exception": false,
     "start_time": "2022-11-26T09:47:23.487403",
     "status": "completed"
    },
    "tags": []
   },
   "outputs": [
    {
     "data": {
      "text/plain": [
       "CODE       0\n",
       "COUNTRY    0\n",
       "DATE       0\n",
       "HDI        0\n",
       "TC         0\n",
       "TD         0\n",
       "STI        0\n",
       "POP        0\n",
       "GDPCAP     0\n",
       "dtype: int64"
      ]
     },
     "execution_count": 10,
     "metadata": {},
     "output_type": "execute_result"
    }
   ],
   "source": [
    "df.isnull().sum()"
   ]
  },
  {
   "cell_type": "code",
   "execution_count": 11,
   "id": "be46c7e9",
   "metadata": {
    "execution": {
     "iopub.execute_input": "2022-11-26T09:47:23.551343Z",
     "iopub.status.busy": "2022-11-26T09:47:23.550871Z",
     "iopub.status.idle": "2022-11-26T09:47:23.561644Z",
     "shell.execute_reply": "2022-11-26T09:47:23.560284Z"
    },
    "papermill": {
     "duration": 0.023641,
     "end_time": "2022-11-26T09:47:23.564321",
     "exception": false,
     "start_time": "2022-11-26T09:47:23.540680",
     "status": "completed"
    },
    "tags": []
   },
   "outputs": [],
   "source": [
    "country = df.drop_duplicates(subset=['CODE'], keep='last')"
   ]
  },
  {
   "cell_type": "code",
   "execution_count": 12,
   "id": "cb10a788",
   "metadata": {
    "execution": {
     "iopub.execute_input": "2022-11-26T09:47:23.584051Z",
     "iopub.status.busy": "2022-11-26T09:47:23.583621Z",
     "iopub.status.idle": "2022-11-26T09:47:23.602115Z",
     "shell.execute_reply": "2022-11-26T09:47:23.600738Z"
    },
    "papermill": {
     "duration": 0.031468,
     "end_time": "2022-11-26T09:47:23.604892",
     "exception": false,
     "start_time": "2022-11-26T09:47:23.573424",
     "status": "completed"
    },
    "tags": []
   },
   "outputs": [
    {
     "name": "stdout",
     "output_type": "stream",
     "text": [
      "<class 'pandas.core.frame.DataFrame'>\n",
      "Int64Index: 151 entries, 279 to 50417\n",
      "Data columns (total 9 columns):\n",
      " #   Column   Non-Null Count  Dtype  \n",
      "---  ------   --------------  -----  \n",
      " 0   CODE     151 non-null    object \n",
      " 1   COUNTRY  151 non-null    object \n",
      " 2   DATE     151 non-null    object \n",
      " 3   HDI      151 non-null    float64\n",
      " 4   TC       151 non-null    float64\n",
      " 5   TD       151 non-null    float64\n",
      " 6   STI      151 non-null    float64\n",
      " 7   POP      151 non-null    float64\n",
      " 8   GDPCAP   151 non-null    float64\n",
      "dtypes: float64(6), object(3)\n",
      "memory usage: 11.8+ KB\n"
     ]
    }
   ],
   "source": [
    "country.info()"
   ]
  },
  {
   "cell_type": "code",
   "execution_count": 13,
   "id": "2f1d7c5c",
   "metadata": {
    "execution": {
     "iopub.execute_input": "2022-11-26T09:47:23.625089Z",
     "iopub.status.busy": "2022-11-26T09:47:23.624700Z",
     "iopub.status.idle": "2022-11-26T09:47:23.648642Z",
     "shell.execute_reply": "2022-11-26T09:47:23.647347Z"
    },
    "papermill": {
     "duration": 0.036899,
     "end_time": "2022-11-26T09:47:23.651163",
     "exception": false,
     "start_time": "2022-11-26T09:47:23.614264",
     "status": "completed"
    },
    "tags": []
   },
   "outputs": [
    {
     "data": {
      "text/html": [
       "<div>\n",
       "<style scoped>\n",
       "    .dataframe tbody tr th:only-of-type {\n",
       "        vertical-align: middle;\n",
       "    }\n",
       "\n",
       "    .dataframe tbody tr th {\n",
       "        vertical-align: top;\n",
       "    }\n",
       "\n",
       "    .dataframe thead th {\n",
       "        text-align: right;\n",
       "    }\n",
       "</style>\n",
       "<table border=\"1\" class=\"dataframe\">\n",
       "  <thead>\n",
       "    <tr style=\"text-align: right;\">\n",
       "      <th></th>\n",
       "      <th>CODE</th>\n",
       "      <th>COUNTRY</th>\n",
       "      <th>DATE</th>\n",
       "      <th>HDI</th>\n",
       "      <th>TC</th>\n",
       "      <th>TD</th>\n",
       "      <th>STI</th>\n",
       "      <th>POP</th>\n",
       "      <th>GDPCAP</th>\n",
       "    </tr>\n",
       "  </thead>\n",
       "  <tbody>\n",
       "    <tr>\n",
       "      <th>0</th>\n",
       "      <td>AFG</td>\n",
       "      <td>Afghanistan</td>\n",
       "      <td>2020-10-05</td>\n",
       "      <td>0.498</td>\n",
       "      <td>10.580023</td>\n",
       "      <td>7.287561</td>\n",
       "      <td>3.218876</td>\n",
       "      <td>17.477233</td>\n",
       "      <td>7.497754</td>\n",
       "    </tr>\n",
       "    <tr>\n",
       "      <th>1</th>\n",
       "      <td>ALB</td>\n",
       "      <td>Albania</td>\n",
       "      <td>2020-10-05</td>\n",
       "      <td>0.785</td>\n",
       "      <td>9.565634</td>\n",
       "      <td>5.981414</td>\n",
       "      <td>3.773221</td>\n",
       "      <td>14.872537</td>\n",
       "      <td>9.376146</td>\n",
       "    </tr>\n",
       "    <tr>\n",
       "      <th>2</th>\n",
       "      <td>DZA</td>\n",
       "      <td>Algeria</td>\n",
       "      <td>2020-10-12</td>\n",
       "      <td>0.754</td>\n",
       "      <td>10.879405</td>\n",
       "      <td>7.496097</td>\n",
       "      <td>4.329812</td>\n",
       "      <td>17.596309</td>\n",
       "      <td>9.540639</td>\n",
       "    </tr>\n",
       "    <tr>\n",
       "      <th>3</th>\n",
       "      <td>AGO</td>\n",
       "      <td>Angola</td>\n",
       "      <td>2020-10-08</td>\n",
       "      <td>0.581</td>\n",
       "      <td>8.652598</td>\n",
       "      <td>5.327876</td>\n",
       "      <td>4.266896</td>\n",
       "      <td>17.307957</td>\n",
       "      <td>8.668969</td>\n",
       "    </tr>\n",
       "    <tr>\n",
       "      <th>4</th>\n",
       "      <td>ARG</td>\n",
       "      <td>Argentina</td>\n",
       "      <td>2020-10-09</td>\n",
       "      <td>0.825</td>\n",
       "      <td>13.660441</td>\n",
       "      <td>10.030561</td>\n",
       "      <td>4.476882</td>\n",
       "      <td>17.626514</td>\n",
       "      <td>9.848710</td>\n",
       "    </tr>\n",
       "    <tr>\n",
       "      <th>...</th>\n",
       "      <td>...</td>\n",
       "      <td>...</td>\n",
       "      <td>...</td>\n",
       "      <td>...</td>\n",
       "      <td>...</td>\n",
       "      <td>...</td>\n",
       "      <td>...</td>\n",
       "      <td>...</td>\n",
       "      <td>...</td>\n",
       "    </tr>\n",
       "    <tr>\n",
       "      <th>146</th>\n",
       "      <td>VEN</td>\n",
       "      <td>Venezuela</td>\n",
       "      <td>2020-10-15</td>\n",
       "      <td>0.761</td>\n",
       "      <td>11.350465</td>\n",
       "      <td>6.570883</td>\n",
       "      <td>4.476882</td>\n",
       "      <td>17.163165</td>\n",
       "      <td>9.725856</td>\n",
       "    </tr>\n",
       "    <tr>\n",
       "      <th>147</th>\n",
       "      <td>VNM</td>\n",
       "      <td>Vietnam</td>\n",
       "      <td>2020-10-19</td>\n",
       "      <td>0.694</td>\n",
       "      <td>7.033506</td>\n",
       "      <td>3.555348</td>\n",
       "      <td>3.948355</td>\n",
       "      <td>18.393706</td>\n",
       "      <td>8.727759</td>\n",
       "    </tr>\n",
       "    <tr>\n",
       "      <th>148</th>\n",
       "      <td>YEM</td>\n",
       "      <td>Yemen</td>\n",
       "      <td>2020-10-12</td>\n",
       "      <td>0.452</td>\n",
       "      <td>7.628031</td>\n",
       "      <td>6.390241</td>\n",
       "      <td>3.814851</td>\n",
       "      <td>17.210890</td>\n",
       "      <td>7.299221</td>\n",
       "    </tr>\n",
       "    <tr>\n",
       "      <th>149</th>\n",
       "      <td>ZMB</td>\n",
       "      <td>Zambia</td>\n",
       "      <td>2020-10-05</td>\n",
       "      <td>0.588</td>\n",
       "      <td>9.619266</td>\n",
       "      <td>5.808142</td>\n",
       "      <td>3.794140</td>\n",
       "      <td>16.726989</td>\n",
       "      <td>8.213179</td>\n",
       "    </tr>\n",
       "    <tr>\n",
       "      <th>150</th>\n",
       "      <td>ZWE</td>\n",
       "      <td>Zimbabwe</td>\n",
       "      <td>2020-10-19</td>\n",
       "      <td>0.535</td>\n",
       "      <td>9.005405</td>\n",
       "      <td>5.442418</td>\n",
       "      <td>4.341855</td>\n",
       "      <td>16.514381</td>\n",
       "      <td>7.549491</td>\n",
       "    </tr>\n",
       "  </tbody>\n",
       "</table>\n",
       "<p>151 rows × 9 columns</p>\n",
       "</div>"
      ],
      "text/plain": [
       "    CODE      COUNTRY        DATE    HDI         TC         TD       STI  \\\n",
       "0    AFG  Afghanistan  2020-10-05  0.498  10.580023   7.287561  3.218876   \n",
       "1    ALB      Albania  2020-10-05  0.785   9.565634   5.981414  3.773221   \n",
       "2    DZA      Algeria  2020-10-12  0.754  10.879405   7.496097  4.329812   \n",
       "3    AGO       Angola  2020-10-08  0.581   8.652598   5.327876  4.266896   \n",
       "4    ARG    Argentina  2020-10-09  0.825  13.660441  10.030561  4.476882   \n",
       "..   ...          ...         ...    ...        ...        ...       ...   \n",
       "146  VEN    Venezuela  2020-10-15  0.761  11.350465   6.570883  4.476882   \n",
       "147  VNM      Vietnam  2020-10-19  0.694   7.033506   3.555348  3.948355   \n",
       "148  YEM        Yemen  2020-10-12  0.452   7.628031   6.390241  3.814851   \n",
       "149  ZMB       Zambia  2020-10-05  0.588   9.619266   5.808142  3.794140   \n",
       "150  ZWE     Zimbabwe  2020-10-19  0.535   9.005405   5.442418  4.341855   \n",
       "\n",
       "           POP    GDPCAP  \n",
       "0    17.477233  7.497754  \n",
       "1    14.872537  9.376146  \n",
       "2    17.596309  9.540639  \n",
       "3    17.307957  8.668969  \n",
       "4    17.626514  9.848710  \n",
       "..         ...       ...  \n",
       "146  17.163165  9.725856  \n",
       "147  18.393706  8.727759  \n",
       "148  17.210890  7.299221  \n",
       "149  16.726989  8.213179  \n",
       "150  16.514381  7.549491  \n",
       "\n",
       "[151 rows x 9 columns]"
      ]
     },
     "execution_count": 13,
     "metadata": {},
     "output_type": "execute_result"
    }
   ],
   "source": [
    "country = country.reset_index()\n",
    "country.drop('index', inplace=True, axis=1)\n",
    "country"
   ]
  },
  {
   "cell_type": "code",
   "execution_count": 14,
   "id": "67ebcae8",
   "metadata": {
    "execution": {
     "iopub.execute_input": "2022-11-26T09:47:23.689622Z",
     "iopub.status.busy": "2022-11-26T09:47:23.689153Z",
     "iopub.status.idle": "2022-11-26T09:47:23.710507Z",
     "shell.execute_reply": "2022-11-26T09:47:23.709299Z"
    },
    "papermill": {
     "duration": 0.034576,
     "end_time": "2022-11-26T09:47:23.712986",
     "exception": false,
     "start_time": "2022-11-26T09:47:23.678410",
     "status": "completed"
    },
    "tags": []
   },
   "outputs": [
    {
     "data": {
      "text/html": [
       "<div>\n",
       "<style scoped>\n",
       "    .dataframe tbody tr th:only-of-type {\n",
       "        vertical-align: middle;\n",
       "    }\n",
       "\n",
       "    .dataframe tbody tr th {\n",
       "        vertical-align: top;\n",
       "    }\n",
       "\n",
       "    .dataframe thead th {\n",
       "        text-align: right;\n",
       "    }\n",
       "</style>\n",
       "<table border=\"1\" class=\"dataframe\">\n",
       "  <thead>\n",
       "    <tr style=\"text-align: right;\">\n",
       "      <th></th>\n",
       "      <th>CODE</th>\n",
       "      <th>HDI</th>\n",
       "      <th>TC</th>\n",
       "      <th>TD</th>\n",
       "      <th>STI</th>\n",
       "      <th>POP</th>\n",
       "      <th>GDPCAP</th>\n",
       "    </tr>\n",
       "  </thead>\n",
       "  <tbody>\n",
       "    <tr>\n",
       "      <th>0</th>\n",
       "      <td>AFG</td>\n",
       "      <td>0.498</td>\n",
       "      <td>10.580023</td>\n",
       "      <td>7.287561</td>\n",
       "      <td>3.218876</td>\n",
       "      <td>17.477233</td>\n",
       "      <td>7.497754</td>\n",
       "    </tr>\n",
       "    <tr>\n",
       "      <th>1</th>\n",
       "      <td>ALB</td>\n",
       "      <td>0.785</td>\n",
       "      <td>9.565634</td>\n",
       "      <td>5.981414</td>\n",
       "      <td>3.773221</td>\n",
       "      <td>14.872537</td>\n",
       "      <td>9.376146</td>\n",
       "    </tr>\n",
       "    <tr>\n",
       "      <th>2</th>\n",
       "      <td>DZA</td>\n",
       "      <td>0.754</td>\n",
       "      <td>10.879405</td>\n",
       "      <td>7.496097</td>\n",
       "      <td>4.329812</td>\n",
       "      <td>17.596309</td>\n",
       "      <td>9.540639</td>\n",
       "    </tr>\n",
       "    <tr>\n",
       "      <th>3</th>\n",
       "      <td>AGO</td>\n",
       "      <td>0.581</td>\n",
       "      <td>8.652598</td>\n",
       "      <td>5.327876</td>\n",
       "      <td>4.266896</td>\n",
       "      <td>17.307957</td>\n",
       "      <td>8.668969</td>\n",
       "    </tr>\n",
       "    <tr>\n",
       "      <th>4</th>\n",
       "      <td>ARG</td>\n",
       "      <td>0.825</td>\n",
       "      <td>13.660441</td>\n",
       "      <td>10.030561</td>\n",
       "      <td>4.476882</td>\n",
       "      <td>17.626514</td>\n",
       "      <td>9.848710</td>\n",
       "    </tr>\n",
       "    <tr>\n",
       "      <th>...</th>\n",
       "      <td>...</td>\n",
       "      <td>...</td>\n",
       "      <td>...</td>\n",
       "      <td>...</td>\n",
       "      <td>...</td>\n",
       "      <td>...</td>\n",
       "      <td>...</td>\n",
       "    </tr>\n",
       "    <tr>\n",
       "      <th>146</th>\n",
       "      <td>VEN</td>\n",
       "      <td>0.761</td>\n",
       "      <td>11.350465</td>\n",
       "      <td>6.570883</td>\n",
       "      <td>4.476882</td>\n",
       "      <td>17.163165</td>\n",
       "      <td>9.725856</td>\n",
       "    </tr>\n",
       "    <tr>\n",
       "      <th>147</th>\n",
       "      <td>VNM</td>\n",
       "      <td>0.694</td>\n",
       "      <td>7.033506</td>\n",
       "      <td>3.555348</td>\n",
       "      <td>3.948355</td>\n",
       "      <td>18.393706</td>\n",
       "      <td>8.727759</td>\n",
       "    </tr>\n",
       "    <tr>\n",
       "      <th>148</th>\n",
       "      <td>YEM</td>\n",
       "      <td>0.452</td>\n",
       "      <td>7.628031</td>\n",
       "      <td>6.390241</td>\n",
       "      <td>3.814851</td>\n",
       "      <td>17.210890</td>\n",
       "      <td>7.299221</td>\n",
       "    </tr>\n",
       "    <tr>\n",
       "      <th>149</th>\n",
       "      <td>ZMB</td>\n",
       "      <td>0.588</td>\n",
       "      <td>9.619266</td>\n",
       "      <td>5.808142</td>\n",
       "      <td>3.794140</td>\n",
       "      <td>16.726989</td>\n",
       "      <td>8.213179</td>\n",
       "    </tr>\n",
       "    <tr>\n",
       "      <th>150</th>\n",
       "      <td>ZWE</td>\n",
       "      <td>0.535</td>\n",
       "      <td>9.005405</td>\n",
       "      <td>5.442418</td>\n",
       "      <td>4.341855</td>\n",
       "      <td>16.514381</td>\n",
       "      <td>7.549491</td>\n",
       "    </tr>\n",
       "  </tbody>\n",
       "</table>\n",
       "<p>151 rows × 7 columns</p>\n",
       "</div>"
      ],
      "text/plain": [
       "    CODE    HDI         TC         TD       STI        POP    GDPCAP\n",
       "0    AFG  0.498  10.580023   7.287561  3.218876  17.477233  7.497754\n",
       "1    ALB  0.785   9.565634   5.981414  3.773221  14.872537  9.376146\n",
       "2    DZA  0.754  10.879405   7.496097  4.329812  17.596309  9.540639\n",
       "3    AGO  0.581   8.652598   5.327876  4.266896  17.307957  8.668969\n",
       "4    ARG  0.825  13.660441  10.030561  4.476882  17.626514  9.848710\n",
       "..   ...    ...        ...        ...       ...        ...       ...\n",
       "146  VEN  0.761  11.350465   6.570883  4.476882  17.163165  9.725856\n",
       "147  VNM  0.694   7.033506   3.555348  3.948355  18.393706  8.727759\n",
       "148  YEM  0.452   7.628031   6.390241  3.814851  17.210890  7.299221\n",
       "149  ZMB  0.588   9.619266   5.808142  3.794140  16.726989  8.213179\n",
       "150  ZWE  0.535   9.005405   5.442418  4.341855  16.514381  7.549491\n",
       "\n",
       "[151 rows x 7 columns]"
      ]
     },
     "execution_count": 14,
     "metadata": {},
     "output_type": "execute_result"
    }
   ],
   "source": [
    "country.drop(['COUNTRY', 'DATE'], inplace=True, axis=1)\n",
    "country"
   ]
  },
  {
   "cell_type": "code",
   "execution_count": 15,
   "id": "9c02efea",
   "metadata": {
    "execution": {
     "iopub.execute_input": "2022-11-26T09:47:23.754025Z",
     "iopub.status.busy": "2022-11-26T09:47:23.753639Z",
     "iopub.status.idle": "2022-11-26T09:47:24.212484Z",
     "shell.execute_reply": "2022-11-26T09:47:24.210983Z"
    },
    "papermill": {
     "duration": 0.472764,
     "end_time": "2022-11-26T09:47:24.215276",
     "exception": false,
     "start_time": "2022-11-26T09:47:23.742512",
     "status": "completed"
    },
    "tags": []
   },
   "outputs": [
    {
     "data": {
      "text/plain": [
       "<AxesSubplot:>"
      ]
     },
     "execution_count": 15,
     "metadata": {},
     "output_type": "execute_result"
    },
    {
     "data": {
      "image/png": "[encoded data removed]",
      "text/plain": [
       "<Figure size 640x480 with 2 Axes>"
      ]
     },
     "metadata": {},
     "output_type": "display_data"
    }
   ],
   "source": [
    "corr = country[['HDI', 'TC', 'TD', 'STI', 'POP', 'GDPCAP']].corr()\n",
    "sns.heatmap(corr, cmap='Wistia', annot = True)"
   ]
  },
  {
   "cell_type": "code",
   "execution_count": 16,
   "id": "9952d67c",
   "metadata": {
    "execution": {
     "iopub.execute_input": "2022-11-26T09:47:24.257915Z",
     "iopub.status.busy": "2022-11-26T09:47:24.257445Z",
     "iopub.status.idle": "2022-11-26T09:47:24.263881Z",
     "shell.execute_reply": "2022-11-26T09:47:24.262912Z"
    },
    "papermill": {
     "duration": 0.020265,
     "end_time": "2022-11-26T09:47:24.266304",
     "exception": false,
     "start_time": "2022-11-26T09:47:24.246039",
     "status": "completed"
    },
    "tags": []
   },
   "outputs": [],
   "source": [
    "country.drop(['TD', 'STI'], inplace=True, axis=1)"
   ]
  },
  {
   "cell_type": "code",
   "execution_count": 17,
   "id": "f7a7164b",
   "metadata": {
    "execution": {
     "iopub.execute_input": "2022-11-26T09:47:24.308891Z",
     "iopub.status.busy": "2022-11-26T09:47:24.308430Z",
     "iopub.status.idle": "2022-11-26T09:47:24.345582Z",
     "shell.execute_reply": "2022-11-26T09:47:24.344461Z"
    },
    "papermill": {
     "duration": 0.051202,
     "end_time": "2022-11-26T09:47:24.348257",
     "exception": false,
     "start_time": "2022-11-26T09:47:24.297055",
     "status": "completed"
    },
    "tags": []
   },
   "outputs": [
    {
     "data": {
      "text/html": [
       "<div>\n",
       "<style scoped>\n",
       "    .dataframe tbody tr th:only-of-type {\n",
       "        vertical-align: middle;\n",
       "    }\n",
       "\n",
       "    .dataframe tbody tr th {\n",
       "        vertical-align: top;\n",
       "    }\n",
       "\n",
       "    .dataframe thead th {\n",
       "        text-align: right;\n",
       "    }\n",
       "</style>\n",
       "<table border=\"1\" class=\"dataframe\">\n",
       "  <thead>\n",
       "    <tr style=\"text-align: right;\">\n",
       "      <th></th>\n",
       "      <th>CODE</th>\n",
       "      <th>HDI</th>\n",
       "      <th>TC</th>\n",
       "      <th>POP</th>\n",
       "      <th>GDPCAP</th>\n",
       "      <th>CONTINENT</th>\n",
       "    </tr>\n",
       "  </thead>\n",
       "  <tbody>\n",
       "    <tr>\n",
       "      <th>0</th>\n",
       "      <td>AFG</td>\n",
       "      <td>0.498</td>\n",
       "      <td>10.580023</td>\n",
       "      <td>17.477233</td>\n",
       "      <td>7.497754</td>\n",
       "      <td>AS</td>\n",
       "    </tr>\n",
       "    <tr>\n",
       "      <th>1</th>\n",
       "      <td>ALB</td>\n",
       "      <td>0.785</td>\n",
       "      <td>9.565634</td>\n",
       "      <td>14.872537</td>\n",
       "      <td>9.376146</td>\n",
       "      <td>EU</td>\n",
       "    </tr>\n",
       "    <tr>\n",
       "      <th>2</th>\n",
       "      <td>DZA</td>\n",
       "      <td>0.754</td>\n",
       "      <td>10.879405</td>\n",
       "      <td>17.596309</td>\n",
       "      <td>9.540639</td>\n",
       "      <td>AF</td>\n",
       "    </tr>\n",
       "    <tr>\n",
       "      <th>3</th>\n",
       "      <td>AGO</td>\n",
       "      <td>0.581</td>\n",
       "      <td>8.652598</td>\n",
       "      <td>17.307957</td>\n",
       "      <td>8.668969</td>\n",
       "      <td>AF</td>\n",
       "    </tr>\n",
       "    <tr>\n",
       "      <th>4</th>\n",
       "      <td>ARG</td>\n",
       "      <td>0.825</td>\n",
       "      <td>13.660441</td>\n",
       "      <td>17.626514</td>\n",
       "      <td>9.848710</td>\n",
       "      <td>SA</td>\n",
       "    </tr>\n",
       "    <tr>\n",
       "      <th>...</th>\n",
       "      <td>...</td>\n",
       "      <td>...</td>\n",
       "      <td>...</td>\n",
       "      <td>...</td>\n",
       "      <td>...</td>\n",
       "      <td>...</td>\n",
       "    </tr>\n",
       "    <tr>\n",
       "      <th>146</th>\n",
       "      <td>VEN</td>\n",
       "      <td>0.761</td>\n",
       "      <td>11.350465</td>\n",
       "      <td>17.163165</td>\n",
       "      <td>9.725856</td>\n",
       "      <td>SA</td>\n",
       "    </tr>\n",
       "    <tr>\n",
       "      <th>147</th>\n",
       "      <td>VNM</td>\n",
       "      <td>0.694</td>\n",
       "      <td>7.033506</td>\n",
       "      <td>18.393706</td>\n",
       "      <td>8.727759</td>\n",
       "      <td>AS</td>\n",
       "    </tr>\n",
       "    <tr>\n",
       "      <th>148</th>\n",
       "      <td>YEM</td>\n",
       "      <td>0.452</td>\n",
       "      <td>7.628031</td>\n",
       "      <td>17.210890</td>\n",
       "      <td>7.299221</td>\n",
       "      <td>AS</td>\n",
       "    </tr>\n",
       "    <tr>\n",
       "      <th>149</th>\n",
       "      <td>ZMB</td>\n",
       "      <td>0.588</td>\n",
       "      <td>9.619266</td>\n",
       "      <td>16.726989</td>\n",
       "      <td>8.213179</td>\n",
       "      <td>AF</td>\n",
       "    </tr>\n",
       "    <tr>\n",
       "      <th>150</th>\n",
       "      <td>ZWE</td>\n",
       "      <td>0.535</td>\n",
       "      <td>9.005405</td>\n",
       "      <td>16.514381</td>\n",
       "      <td>7.549491</td>\n",
       "      <td>AF</td>\n",
       "    </tr>\n",
       "  </tbody>\n",
       "</table>\n",
       "<p>151 rows × 6 columns</p>\n",
       "</div>"
      ],
      "text/plain": [
       "    CODE    HDI         TC        POP    GDPCAP CONTINENT\n",
       "0    AFG  0.498  10.580023  17.477233  7.497754        AS\n",
       "1    ALB  0.785   9.565634  14.872537  9.376146        EU\n",
       "2    DZA  0.754  10.879405  17.596309  9.540639        AF\n",
       "3    AGO  0.581   8.652598  17.307957  8.668969        AF\n",
       "4    ARG  0.825  13.660441  17.626514  9.848710        SA\n",
       "..   ...    ...        ...        ...       ...       ...\n",
       "146  VEN  0.761  11.350465  17.163165  9.725856        SA\n",
       "147  VNM  0.694   7.033506  18.393706  8.727759        AS\n",
       "148  YEM  0.452   7.628031  17.210890  7.299221        AS\n",
       "149  ZMB  0.588   9.619266  16.726989  8.213179        AF\n",
       "150  ZWE  0.535   9.005405  16.514381  7.549491        AF\n",
       "\n",
       "[151 rows x 6 columns]"
      ]
     },
     "execution_count": 17,
     "metadata": {},
     "output_type": "execute_result"
    }
   ],
   "source": [
    "country_code = country['CODE'].unique().tolist()\n",
    "alpha2_code = []\n",
    "for i in country_code:\n",
    "    alpha2_code.append(pc.country_alpha3_to_country_alpha2(i))\n",
    "continent_code = []\n",
    "for i in alpha2_code:\n",
    "    try:\n",
    "        continent_code.append(pc.country_alpha2_to_continent_code(i))\n",
    "    except:\n",
    "        continent_code.append('Unknown')\n",
    "        \n",
    "country['CONTINENT'] = continent_code\n",
    "country\n",
    "        "
   ]
  },
  {
   "cell_type": "code",
   "execution_count": 18,
   "id": "46b2c5d9",
   "metadata": {
    "execution": {
     "iopub.execute_input": "2022-11-26T09:47:24.391046Z",
     "iopub.status.busy": "2022-11-26T09:47:24.390620Z",
     "iopub.status.idle": "2022-11-26T09:47:25.018137Z",
     "shell.execute_reply": "2022-11-26T09:47:25.016637Z"
    },
    "papermill": {
     "duration": 0.643088,
     "end_time": "2022-11-26T09:47:25.021611",
     "exception": false,
     "start_time": "2022-11-26T09:47:24.378523",
     "status": "completed"
    },
    "tags": []
   },
   "outputs": [
    {
     "data": {
      "text/plain": [
       "<Figure size 1000x800 with 0 Axes>"
      ]
     },
     "metadata": {},
     "output_type": "display_data"
    },
    {
     "data": {
      "image/png": "[encoded data removed]",
      "text/plain": [
       "<Figure size 1125x500 with 3 Axes>"
      ]
     },
     "metadata": {},
     "output_type": "display_data"
    }
   ],
   "source": [
    "plt.figure(figsize=(10,8))\n",
    "sns.pairplot(data=country, x_vars=['HDI', 'TC', 'POP'], y_vars=['GDPCAP'], height=5, aspect=0.75)\n",
    "plt.show()"
   ]
  },
  {
   "cell_type": "code",
   "execution_count": 19,
   "id": "99f194fc",
   "metadata": {
    "execution": {
     "iopub.execute_input": "2022-11-26T09:47:25.084098Z",
     "iopub.status.busy": "2022-11-26T09:47:25.083676Z",
     "iopub.status.idle": "2022-11-26T09:47:25.094182Z",
     "shell.execute_reply": "2022-11-26T09:47:25.092818Z"
    },
    "papermill": {
     "duration": 0.027869,
     "end_time": "2022-11-26T09:47:25.096610",
     "exception": false,
     "start_time": "2022-11-26T09:47:25.068741",
     "status": "completed"
    },
    "tags": []
   },
   "outputs": [
    {
     "data": {
      "text/plain": [
       "CONTINENT\n",
       "AF    46\n",
       "AS    38\n",
       "EU    36\n",
       "NA    15\n",
       "OC     4\n",
       "SA    12\n",
       "dtype: int64"
      ]
     },
     "execution_count": 19,
     "metadata": {},
     "output_type": "execute_result"
    }
   ],
   "source": [
    "continent = country.groupby(by=\"CONTINENT\").size()\n",
    "continent"
   ]
  },
  {
   "cell_type": "code",
   "execution_count": 20,
   "id": "aa5c5035",
   "metadata": {
    "execution": {
     "iopub.execute_input": "2022-11-26T09:47:25.120398Z",
     "iopub.status.busy": "2022-11-26T09:47:25.119973Z",
     "iopub.status.idle": "2022-11-26T09:47:25.812758Z",
     "shell.execute_reply": "2022-11-26T09:47:25.811570Z"
    },
    "papermill": {
     "duration": 0.70805,
     "end_time": "2022-11-26T09:47:25.815590",
     "exception": false,
     "start_time": "2022-11-26T09:47:25.107540",
     "status": "completed"
    },
    "tags": []
   },
   "outputs": [
    {
     "data": {
      "image/png": "[encoded data removed]",
      "text/plain": [
       "<Figure size 500x500 with 1 Axes>"
      ]
     },
     "metadata": {},
     "output_type": "display_data"
    },
    {
     "data": {
      "text/plain": [
       "<Figure size 1000x800 with 0 Axes>"
      ]
     },
     "metadata": {},
     "output_type": "display_data"
    },
    {
     "data": {
      "image/png": "[encoded data removed]",
      "text/plain": [
       "<Figure size 375x500 with 1 Axes>"
      ]
     },
     "metadata": {},
     "output_type": "display_data"
    }
   ],
   "source": [
    "sns.catplot(data=country, x='CONTINENT', y='GDPCAP', kind='box')\n",
    "plt.figure(figsize=(10,8))\n",
    "sns.pairplot(data=country, x_vars=['CONTINENT'], y_vars=['GDPCAP'], height=5, aspect=0.75)\n",
    "plt.show()"
   ]
  },
  {
   "cell_type": "code",
   "execution_count": 21,
   "id": "81ceba95",
   "metadata": {
    "execution": {
     "iopub.execute_input": "2022-11-26T09:47:25.865085Z",
     "iopub.status.busy": "2022-11-26T09:47:25.863926Z",
     "iopub.status.idle": "2022-11-26T09:47:25.884259Z",
     "shell.execute_reply": "2022-11-26T09:47:25.883186Z"
    },
    "papermill": {
     "duration": 0.03586,
     "end_time": "2022-11-26T09:47:25.886923",
     "exception": false,
     "start_time": "2022-11-26T09:47:25.851063",
     "status": "completed"
    },
    "tags": []
   },
   "outputs": [
    {
     "data": {
      "text/html": [
       "<div>\n",
       "<style scoped>\n",
       "    .dataframe tbody tr th:only-of-type {\n",
       "        vertical-align: middle;\n",
       "    }\n",
       "\n",
       "    .dataframe tbody tr th {\n",
       "        vertical-align: top;\n",
       "    }\n",
       "\n",
       "    .dataframe thead th {\n",
       "        text-align: right;\n",
       "    }\n",
       "</style>\n",
       "<table border=\"1\" class=\"dataframe\">\n",
       "  <thead>\n",
       "    <tr style=\"text-align: right;\">\n",
       "      <th></th>\n",
       "      <th>CODE</th>\n",
       "      <th>HDI</th>\n",
       "      <th>TC</th>\n",
       "      <th>POP</th>\n",
       "      <th>GDPCAP</th>\n",
       "      <th>CONTINENT</th>\n",
       "    </tr>\n",
       "  </thead>\n",
       "  <tbody>\n",
       "    <tr>\n",
       "      <th>0</th>\n",
       "      <td>AFG</td>\n",
       "      <td>0.498</td>\n",
       "      <td>10.580023</td>\n",
       "      <td>17.477233</td>\n",
       "      <td>7.497754</td>\n",
       "      <td>1</td>\n",
       "    </tr>\n",
       "    <tr>\n",
       "      <th>1</th>\n",
       "      <td>ALB</td>\n",
       "      <td>0.785</td>\n",
       "      <td>9.565634</td>\n",
       "      <td>14.872537</td>\n",
       "      <td>9.376146</td>\n",
       "      <td>2</td>\n",
       "    </tr>\n",
       "    <tr>\n",
       "      <th>2</th>\n",
       "      <td>DZA</td>\n",
       "      <td>0.754</td>\n",
       "      <td>10.879405</td>\n",
       "      <td>17.596309</td>\n",
       "      <td>9.540639</td>\n",
       "      <td>6</td>\n",
       "    </tr>\n",
       "    <tr>\n",
       "      <th>3</th>\n",
       "      <td>AGO</td>\n",
       "      <td>0.581</td>\n",
       "      <td>8.652598</td>\n",
       "      <td>17.307957</td>\n",
       "      <td>8.668969</td>\n",
       "      <td>6</td>\n",
       "    </tr>\n",
       "    <tr>\n",
       "      <th>4</th>\n",
       "      <td>ARG</td>\n",
       "      <td>0.825</td>\n",
       "      <td>13.660441</td>\n",
       "      <td>17.626514</td>\n",
       "      <td>9.848710</td>\n",
       "      <td>5</td>\n",
       "    </tr>\n",
       "    <tr>\n",
       "      <th>...</th>\n",
       "      <td>...</td>\n",
       "      <td>...</td>\n",
       "      <td>...</td>\n",
       "      <td>...</td>\n",
       "      <td>...</td>\n",
       "      <td>...</td>\n",
       "    </tr>\n",
       "    <tr>\n",
       "      <th>146</th>\n",
       "      <td>VEN</td>\n",
       "      <td>0.761</td>\n",
       "      <td>11.350465</td>\n",
       "      <td>17.163165</td>\n",
       "      <td>9.725856</td>\n",
       "      <td>5</td>\n",
       "    </tr>\n",
       "    <tr>\n",
       "      <th>147</th>\n",
       "      <td>VNM</td>\n",
       "      <td>0.694</td>\n",
       "      <td>7.033506</td>\n",
       "      <td>18.393706</td>\n",
       "      <td>8.727759</td>\n",
       "      <td>1</td>\n",
       "    </tr>\n",
       "    <tr>\n",
       "      <th>148</th>\n",
       "      <td>YEM</td>\n",
       "      <td>0.452</td>\n",
       "      <td>7.628031</td>\n",
       "      <td>17.210890</td>\n",
       "      <td>7.299221</td>\n",
       "      <td>1</td>\n",
       "    </tr>\n",
       "    <tr>\n",
       "      <th>149</th>\n",
       "      <td>ZMB</td>\n",
       "      <td>0.588</td>\n",
       "      <td>9.619266</td>\n",
       "      <td>16.726989</td>\n",
       "      <td>8.213179</td>\n",
       "      <td>6</td>\n",
       "    </tr>\n",
       "    <tr>\n",
       "      <th>150</th>\n",
       "      <td>ZWE</td>\n",
       "      <td>0.535</td>\n",
       "      <td>9.005405</td>\n",
       "      <td>16.514381</td>\n",
       "      <td>7.549491</td>\n",
       "      <td>6</td>\n",
       "    </tr>\n",
       "  </tbody>\n",
       "</table>\n",
       "<p>151 rows × 6 columns</p>\n",
       "</div>"
      ],
      "text/plain": [
       "    CODE    HDI         TC        POP    GDPCAP  CONTINENT\n",
       "0    AFG  0.498  10.580023  17.477233  7.497754          1\n",
       "1    ALB  0.785   9.565634  14.872537  9.376146          2\n",
       "2    DZA  0.754  10.879405  17.596309  9.540639          6\n",
       "3    AGO  0.581   8.652598  17.307957  8.668969          6\n",
       "4    ARG  0.825  13.660441  17.626514  9.848710          5\n",
       "..   ...    ...        ...        ...       ...        ...\n",
       "146  VEN  0.761  11.350465  17.163165  9.725856          5\n",
       "147  VNM  0.694   7.033506  18.393706  8.727759          1\n",
       "148  YEM  0.452   7.628031  17.210890  7.299221          1\n",
       "149  ZMB  0.588   9.619266  16.726989  8.213179          6\n",
       "150  ZWE  0.535   9.005405  16.514381  7.549491          6\n",
       "\n",
       "[151 rows x 6 columns]"
      ]
     },
     "execution_count": 21,
     "metadata": {},
     "output_type": "execute_result"
    }
   ],
   "source": [
    "continent_mapping = {'AS':1,\n",
    "                    'EU':2,\n",
    "                    'NA':3,\n",
    "                    'OC':4,\n",
    "                    'SA':5,\n",
    "                    'AF':6}\n",
    "country['CONTINENT'] = country['CONTINENT'].map(continent_mapping)\n",
    "country"
   ]
  },
  {
   "attachments": {},
   "cell_type": "markdown",
   "id": "8cac33f4",
   "metadata": {},
   "source": [
    "### Multiple Linear Regression\n",
    "Multiple Linear Regression adalah salah satu metode teknik statistik yang banyak digunakan memodelkan hubungan variabel Dependent dan Independent. Salah satu kegunaannya yaitu membuat model guna memprediksi nilai dari suatu variabel."
   ]
  },
  {
   "cell_type": "code",
   "execution_count": 22,
   "id": "dcd949f8",
   "metadata": {
    "execution": {
     "iopub.execute_input": "2022-11-26T09:47:25.937083Z",
     "iopub.status.busy": "2022-11-26T09:47:25.936668Z",
     "iopub.status.idle": "2022-11-26T09:47:26.213267Z",
     "shell.execute_reply": "2022-11-26T09:47:26.211687Z"
    },
    "papermill": {
     "duration": 0.292823,
     "end_time": "2022-11-26T09:47:26.216144",
     "exception": false,
     "start_time": "2022-11-26T09:47:25.923321",
     "status": "completed"
    },
    "tags": []
   },
   "outputs": [],
   "source": [
    "from sklearn.linear_model import LinearRegression\n",
    "from sklearn.model_selection import train_test_split\n",
    "\n",
    "column_names = ['HDI', 'TC', 'POP', 'CONTINENT']\n",
    "X = country[column_names]\n",
    "y = country['GDPCAP']\n",
    "\n",
    "X_train, X_test, y_train, y_test = train_test_split(X,y, test_size=0.3, random_state=23)"
   ]
  },
  {
   "cell_type": "code",
   "execution_count": 23,
   "id": "07e71b61",
   "metadata": {
    "execution": {
     "iopub.execute_input": "2022-11-26T09:47:26.265327Z",
     "iopub.status.busy": "2022-11-26T09:47:26.264885Z",
     "iopub.status.idle": "2022-11-26T09:47:26.296909Z",
     "shell.execute_reply": "2022-11-26T09:47:26.295527Z"
    },
    "papermill": {
     "duration": 0.047958,
     "end_time": "2022-11-26T09:47:26.299549",
     "exception": false,
     "start_time": "2022-11-26T09:47:26.251591",
     "status": "completed"
    },
    "tags": []
   },
   "outputs": [
    {
     "name": "stdout",
     "output_type": "stream",
     "text": [
      "Mean squared error -  0.12198669655233807\n",
      "R2 score -  0.870443303764476\n",
      "Max error -  1.1027732573716058\n"
     ]
    }
   ],
   "source": [
    "from sklearn.metrics import mean_squared_error, r2_score, max_error\n",
    "\n",
    "model = LinearRegression().fit(X_train, y_train)\n",
    "pred = model.predict(X_test)\n",
    "mse3 = mean_squared_error(y_test, pred)\n",
    "r23 = r2_score(y_test, pred)\n",
    "max3 = max_error(y_test, pred)\n",
    "\n",
    "print('Mean squared error - ', mse3)\n",
    "print('R2 score - ', r23)\n",
    "print('Max error - ', max3)"
   ]
  },
  {
   "cell_type": "code",
   "execution_count": 24,
   "id": "1658c93c",
   "metadata": {
    "execution": {
     "iopub.execute_input": "2022-11-26T09:47:26.350295Z",
     "iopub.status.busy": "2022-11-26T09:47:26.349859Z",
     "iopub.status.idle": "2022-11-26T09:47:26.367174Z",
     "shell.execute_reply": "2022-11-26T09:47:26.366312Z"
    },
    "papermill": {
     "duration": 0.033788,
     "end_time": "2022-11-26T09:47:26.369650",
     "exception": false,
     "start_time": "2022-11-26T09:47:26.335862",
     "status": "completed"
    },
    "tags": []
   },
   "outputs": [
    {
     "data": {
      "text/html": [
       "<div>\n",
       "<style scoped>\n",
       "    .dataframe tbody tr th:only-of-type {\n",
       "        vertical-align: middle;\n",
       "    }\n",
       "\n",
       "    .dataframe tbody tr th {\n",
       "        vertical-align: top;\n",
       "    }\n",
       "\n",
       "    .dataframe thead th {\n",
       "        text-align: right;\n",
       "    }\n",
       "</style>\n",
       "<table border=\"1\" class=\"dataframe\">\n",
       "  <thead>\n",
       "    <tr style=\"text-align: right;\">\n",
       "      <th></th>\n",
       "      <th>GDPCAP</th>\n",
       "      <th>predicted</th>\n",
       "    </tr>\n",
       "  </thead>\n",
       "  <tbody>\n",
       "    <tr>\n",
       "      <th>2</th>\n",
       "      <td>9.540639</td>\n",
       "      <td>9.604853</td>\n",
       "    </tr>\n",
       "    <tr>\n",
       "      <th>3</th>\n",
       "      <td>8.668969</td>\n",
       "      <td>8.265013</td>\n",
       "    </tr>\n",
       "    <tr>\n",
       "      <th>5</th>\n",
       "      <td>10.706581</td>\n",
       "      <td>10.877198</td>\n",
       "    </tr>\n",
       "    <tr>\n",
       "      <th>7</th>\n",
       "      <td>9.670762</td>\n",
       "      <td>9.487319</td>\n",
       "    </tr>\n",
       "    <tr>\n",
       "      <th>9</th>\n",
       "      <td>8.167347</td>\n",
       "      <td>8.383314</td>\n",
       "    </tr>\n",
       "  </tbody>\n",
       "</table>\n",
       "</div>"
      ],
      "text/plain": [
       "      GDPCAP  predicted\n",
       "2   9.540639   9.604853\n",
       "3   8.668969   8.265013\n",
       "5  10.706581  10.877198\n",
       "7   9.670762   9.487319\n",
       "9   8.167347   8.383314"
      ]
     },
     "execution_count": 24,
     "metadata": {},
     "output_type": "execute_result"
    }
   ],
   "source": [
    "result = y_test.to_frame()\n",
    "result['predicted'] = pred\n",
    "result = result.sort_index(ascending=True)\n",
    "result.head()"
   ]
  },
  {
   "cell_type": "code",
   "execution_count": 25,
   "id": "af2a170e",
   "metadata": {
    "execution": {
     "iopub.execute_input": "2022-11-26T09:47:26.395608Z",
     "iopub.status.busy": "2022-11-26T09:47:26.395168Z",
     "iopub.status.idle": "2022-11-26T09:47:26.612057Z",
     "shell.execute_reply": "2022-11-26T09:47:26.611060Z"
    },
    "papermill": {
     "duration": 0.232291,
     "end_time": "2022-11-26T09:47:26.614148",
     "exception": false,
     "start_time": "2022-11-26T09:47:26.381857",
     "status": "completed"
    },
    "tags": []
   },
   "outputs": [
    {
     "data": {
      "image/png": "[encoded data removed]",
      "text/plain": [
       "<Figure size 640x480 with 1 Axes>"
      ]
     },
     "metadata": {},
     "output_type": "display_data"
    }
   ],
   "source": [
    "result[['GDPCAP', 'predicted']].plot(alpha=0.5);"
   ]
  }
 ],
 "metadata": {
  "kernelspec": {
   "display_name": "Python 3",
   "language": "python",
   "name": "python3"
  },
  "language_info": {
   "codemirror_mode": {
    "name": "ipython",
    "version": 3
   },
   "file_extension": ".py",
   "mimetype": "text/x-python",
   "name": "python",
   "nbconvert_exporter": "python",
   "pygments_lexer": "ipython3",
   "version": "3.10.0 (tags/v3.10.0:b494f59, Oct  4 2021, 19:00:18) [MSC v.1929 64 bit (AMD64)]"
  },
  "papermill": {
   "default_parameters": {},
   "duration": 35.192992,
   "end_time": "2022-11-26T09:47:27.550476",
   "environment_variables": {},
   "exception": null,
   "input_path": "__notebook__.ipynb",
   "output_path": "__notebook__.ipynb",
   "parameters": {},
   "start_time": "2022-11-26T09:46:52.357484",
   "version": "2.3.4"
  },
  "vscode": {
   "interpreter": {
    "hash": "4e27576d3e4c23bd8dac32f5343e7528f6cdd3c2b199e1e27a8bd581b8a8e89b"
   }
  }
 },
 "nbformat": 4,
 "nbformat_minor": 5
}
